{
 "cells": [
  {
   "cell_type": "markdown",
   "id": "3e5e4781",
   "metadata": {},
   "source": [
    "*<font size = 5> Онкология. Заболеваемость и смертность в разрезе пола и возраста. РФ, 2021 г </font>*\n"
   ]
  },
  {
   "cell_type": "markdown",
   "id": "6a9b01fc",
   "metadata": {},
   "source": [
    "**Автор:** Александр Куроедов\n",
    "\n",
    "**Исходные данные:** Ежегодный отчет главного онколога РФ опубликованного за 2021 год. Таблицы 9-11 и 66-68.\n",
    "\n",
    "**Ссылка на готовый дашборд:** https://datalens.yandex/dqveeiogswx82"
   ]
  },
  {
   "cell_type": "markdown",
   "id": "95df7f1a",
   "metadata": {},
   "source": [
    "### Подготовка данных"
   ]
  },
  {
   "cell_type": "code",
   "execution_count": 1,
   "id": "91ae9f75",
   "metadata": {},
   "outputs": [],
   "source": [
    "# подключим библиотеки\n",
    "import numpy as np \n",
    "import pandas as pd\n",
    "import csv\n",
    "# настроим вывод\n",
    "pd.set_option('display.max_columns', None)\n",
    "# отключим предупреждения\n",
    "import warnings\n",
    "warnings.filterwarnings('ignore')"
   ]
  },
  {
   "cell_type": "code",
   "execution_count": 2,
   "id": "977ffcbb",
   "metadata": {},
   "outputs": [],
   "source": [
    "folder = 'C:/Users/aleks/Desktop/DA обучение/PET/drive-download-20231018T173209Z-001/'\n",
    "# составим список таблиц и укажем их расположение\n",
    "table1 = folder+'2021_Таблица_009_Злокачественные_новообразования_в_РФ_(заболеваемость_и_смертность).xlsx'\n",
    "table2 = folder+'2021_Таблица_010_Злокачественные_новообразования_в_РФ_(заболеваемость_и_смертность).xlsx'\n",
    "table3 = folder+'2021_Таблица_011_Злокачественные_новообразования_в_РФ_(заболеваемость_и_смертность).xlsx'\n",
    "table4 = folder+'2021_Таблица_066_Злокачественные_новообразования_в_РФ_(заболеваемость_и_смертность).xlsx'\n",
    "table5 = folder+'2021_Таблица_067_Злокачественные_новообразования_в_РФ_(заболеваемость_и_смертность).xlsx'\n",
    "table6 = folder+'2021_Таблица_068_Злокачественные_новообразования_в_РФ_(заболеваемость_и_смертность).xlsx'\n"
   ]
  },
  {
   "cell_type": "code",
   "execution_count": 3,
   "id": "6503e001",
   "metadata": {},
   "outputs": [],
   "source": [
    "def transformation(table, result_stats, gender):\n",
    "    # считываем \n",
    "    df = pd.read_excel(table, header=[0,1,2,3,4])\n",
    "    df = df.droplevel([0,1,2,3], axis=1).rename(columns={\n",
    "        'Unnamed: 0_level_4':'Локализация, нозологическая форма',\n",
    "        'Unnamed: 1_level_4':'to_drop1',\n",
    "        'Unnamed: 2_level_4':'Код МКБ 10',\n",
    "        'Unnamed: 3_level_4':'Станд. показатель',\n",
    "        'Unnamed: 4_level_4':'Ошиб. станд. показ.',\n",
    "        'Unnamed: 5_level_4':'Показатель'\n",
    "    }\n",
    "    ).drop(columns=['to_drop1'])\n",
    "    # обрабатываем\n",
    "    df = df.drop(columns=df.iloc[:,4:]).merge(\n",
    "        df.iloc[:,5:].stack().reset_index().drop(columns=[0]).merge(\n",
    "            df.iloc[:,5:].stack().reset_index().iloc[:,2].str.split('\\n', expand=True),\n",
    "            left_index=True, right_index=True\n",
    "        ).rename(columns={'level_0':'Index','level_1':'Возраст',0:'Абс.число',1:'\"Грубый\"',2:'Уд.вес,%'}),\n",
    "        left_index=True, right_on='Index'\n",
    "    ).drop(columns=['Index'])\n",
    "    df['Код МКБ 10'] = df['Код МКБ 10'].str.replace('\\n',' ')\n",
    "    df['Пол'] = gender\n",
    "    df['Статистика'] = result_stats\n",
    "    return df"
   ]
  },
  {
   "cell_type": "code",
   "execution_count": 4,
   "id": "6ffa7648",
   "metadata": {},
   "outputs": [],
   "source": [
    "# вызываем и прогружаем. Собираем единую таблицу.\n",
    "final_table =\\\n",
    "transformation(table1, 'заболеваемость', 'оба').append(transformation(table2, 'заболеваемость', 'мужской'), sort=False).\\\n",
    "append(transformation(table3, 'заболеваемость', 'женский'), sort=False).\\\n",
    "append(transformation(table4, 'смертность', 'оба'), sort=False).\\\n",
    "append(transformation(table5, 'смертность', 'мужской'), sort=False).\\\n",
    "append(transformation(table6, 'смертность', 'женский'), sort=False).reset_index().drop(columns='index')"
   ]
  },
  {
   "cell_type": "code",
   "execution_count": 5,
   "id": "eaeb51df",
   "metadata": {},
   "outputs": [
    {
     "data": {
      "text/html": [
       "<div>\n",
       "<style scoped>\n",
       "    .dataframe tbody tr th:only-of-type {\n",
       "        vertical-align: middle;\n",
       "    }\n",
       "\n",
       "    .dataframe tbody tr th {\n",
       "        vertical-align: top;\n",
       "    }\n",
       "\n",
       "    .dataframe thead th {\n",
       "        text-align: right;\n",
       "    }\n",
       "</style>\n",
       "<table border=\"1\" class=\"dataframe\">\n",
       "  <thead>\n",
       "    <tr style=\"text-align: right;\">\n",
       "      <th></th>\n",
       "      <th>Локализация, нозологическая форма</th>\n",
       "      <th>Код МКБ 10</th>\n",
       "      <th>Станд. показатель</th>\n",
       "      <th>Ошиб. станд. показ.</th>\n",
       "      <th>Возраст</th>\n",
       "      <th>Абс.число</th>\n",
       "      <th>\"Грубый\"</th>\n",
       "      <th>Уд.вес,%</th>\n",
       "      <th>Пол</th>\n",
       "      <th>Статистика</th>\n",
       "    </tr>\n",
       "  </thead>\n",
       "  <tbody>\n",
       "    <tr>\n",
       "      <th>0</th>\n",
       "      <td>Злокачественные новообразования - всего</td>\n",
       "      <td>С00-96</td>\n",
       "      <td>224.87</td>\n",
       "      <td>0.32</td>\n",
       "      <td>Всего</td>\n",
       "      <td>580415</td>\n",
       "      <td>397,91</td>\n",
       "      <td>100,00</td>\n",
       "      <td>оба</td>\n",
       "      <td>заболеваемость</td>\n",
       "    </tr>\n",
       "    <tr>\n",
       "      <th>1</th>\n",
       "      <td>Злокачественные новообразования - всего</td>\n",
       "      <td>С00-96</td>\n",
       "      <td>224.87</td>\n",
       "      <td>0.32</td>\n",
       "      <td>0-4</td>\n",
       "      <td>1343</td>\n",
       "      <td>17,13</td>\n",
       "      <td>100,00</td>\n",
       "      <td>оба</td>\n",
       "      <td>заболеваемость</td>\n",
       "    </tr>\n",
       "    <tr>\n",
       "      <th>2</th>\n",
       "      <td>Злокачественные новообразования - всего</td>\n",
       "      <td>С00-96</td>\n",
       "      <td>224.87</td>\n",
       "      <td>0.32</td>\n",
       "      <td>5-9</td>\n",
       "      <td>871</td>\n",
       "      <td>9,08</td>\n",
       "      <td>100,00</td>\n",
       "      <td>оба</td>\n",
       "      <td>заболеваемость</td>\n",
       "    </tr>\n",
       "    <tr>\n",
       "      <th>3</th>\n",
       "      <td>Злокачественные новообразования - всего</td>\n",
       "      <td>С00-96</td>\n",
       "      <td>224.87</td>\n",
       "      <td>0.32</td>\n",
       "      <td>10-14</td>\n",
       "      <td>784</td>\n",
       "      <td>9,30</td>\n",
       "      <td>100,00</td>\n",
       "      <td>оба</td>\n",
       "      <td>заболеваемость</td>\n",
       "    </tr>\n",
       "    <tr>\n",
       "      <th>4</th>\n",
       "      <td>Злокачественные новообразования - всего</td>\n",
       "      <td>С00-96</td>\n",
       "      <td>224.87</td>\n",
       "      <td>0.32</td>\n",
       "      <td>15-19</td>\n",
       "      <td>1223</td>\n",
       "      <td>16,63</td>\n",
       "      <td>100,00</td>\n",
       "      <td>оба</td>\n",
       "      <td>заболеваемость</td>\n",
       "    </tr>\n",
       "  </tbody>\n",
       "</table>\n",
       "</div>"
      ],
      "text/plain": [
       "         Локализация, нозологическая форма Код МКБ 10  Станд. показатель  \\\n",
       "0  Злокачественные новообразования - всего     С00-96             224.87   \n",
       "1  Злокачественные новообразования - всего     С00-96             224.87   \n",
       "2  Злокачественные новообразования - всего     С00-96             224.87   \n",
       "3  Злокачественные новообразования - всего     С00-96             224.87   \n",
       "4  Злокачественные новообразования - всего     С00-96             224.87   \n",
       "\n",
       "   Ошиб. станд. показ. Возраст Абс.число \"Грубый\" Уд.вес,%  Пол  \\\n",
       "0                 0.32   Всего    580415   397,91   100,00  оба   \n",
       "1                 0.32     0-4      1343    17,13   100,00  оба   \n",
       "2                 0.32     5-9       871     9,08   100,00  оба   \n",
       "3                 0.32   10-14       784     9,30   100,00  оба   \n",
       "4                 0.32   15-19      1223    16,63   100,00  оба   \n",
       "\n",
       "       Статистика  \n",
       "0  заболеваемость  \n",
       "1  заболеваемость  \n",
       "2  заболеваемость  \n",
       "3  заболеваемость  \n",
       "4  заболеваемость  "
      ]
     },
     "execution_count": 5,
     "metadata": {},
     "output_type": "execute_result"
    }
   ],
   "source": [
    "# посмотрим на таблицу\n",
    "final_table.head(5)"
   ]
  },
  {
   "cell_type": "code",
   "execution_count": 6,
   "id": "af8662cb",
   "metadata": {},
   "outputs": [
    {
     "name": "stdout",
     "output_type": "stream",
     "text": [
      "<class 'pandas.core.frame.DataFrame'>\n",
      "RangeIndex: 4104 entries, 0 to 4103\n",
      "Data columns (total 10 columns):\n",
      " #   Column                             Non-Null Count  Dtype  \n",
      "---  ------                             --------------  -----  \n",
      " 0   Локализация, нозологическая форма  4104 non-null   object \n",
      " 1   Код МКБ 10                         4104 non-null   object \n",
      " 2   Станд. показатель                  4104 non-null   float64\n",
      " 3   Ошиб. станд. показ.                4104 non-null   float64\n",
      " 4   Возраст                            4104 non-null   object \n",
      " 5   Абс.число                          4104 non-null   object \n",
      " 6   \"Грубый\"                           4104 non-null   object \n",
      " 7   Уд.вес,%                           4104 non-null   object \n",
      " 8   Пол                                4104 non-null   object \n",
      " 9   Статистика                         4104 non-null   object \n",
      "dtypes: float64(2), object(8)\n",
      "memory usage: 320.8+ KB\n"
     ]
    }
   ],
   "source": [
    "# проверим типы данных\n",
    "final_table.info()"
   ]
  },
  {
   "cell_type": "code",
   "execution_count": 7,
   "id": "b6f60f42",
   "metadata": {},
   "outputs": [],
   "source": [
    "# преобразуем типы данных в соответствующие\n",
    "final_table['Абс.число'] = final_table['Абс.число'].astype('int')\n",
    "final_table['\"Грубый\"'] = final_table['\"Грубый\"'].str.replace(',','.').astype('float')\n",
    "final_table['Уд.вес,%'] = final_table['Уд.вес,%'].str.replace(',','.').astype('float')"
   ]
  },
  {
   "cell_type": "code",
   "execution_count": 8,
   "id": "8dab2349",
   "metadata": {
    "scrolled": false
   },
   "outputs": [
    {
     "data": {
      "text/html": [
       "<div>\n",
       "<style scoped>\n",
       "    .dataframe tbody tr th:only-of-type {\n",
       "        vertical-align: middle;\n",
       "    }\n",
       "\n",
       "    .dataframe tbody tr th {\n",
       "        vertical-align: top;\n",
       "    }\n",
       "\n",
       "    .dataframe thead th {\n",
       "        text-align: right;\n",
       "    }\n",
       "</style>\n",
       "<table border=\"1\" class=\"dataframe\">\n",
       "  <thead>\n",
       "    <tr style=\"text-align: right;\">\n",
       "      <th></th>\n",
       "      <th>Локализация, нозологическая форма</th>\n",
       "      <th>Код МКБ 10</th>\n",
       "      <th>Станд. показатель</th>\n",
       "      <th>Ошиб. станд. показ.</th>\n",
       "      <th>Возраст</th>\n",
       "      <th>Абс.число</th>\n",
       "      <th>\"Грубый\"</th>\n",
       "      <th>Уд.вес,%</th>\n",
       "      <th>Пол</th>\n",
       "      <th>Статистика</th>\n",
       "    </tr>\n",
       "  </thead>\n",
       "  <tbody>\n",
       "    <tr>\n",
       "      <th>4099</th>\n",
       "      <td>Лимфатическая и кроветворная ткань</td>\n",
       "      <td>С81-96</td>\n",
       "      <td>4.27</td>\n",
       "      <td>0.06</td>\n",
       "      <td>65-69</td>\n",
       "      <td>1076</td>\n",
       "      <td>20.54</td>\n",
       "      <td>5.25</td>\n",
       "      <td>женский</td>\n",
       "      <td>смертность</td>\n",
       "    </tr>\n",
       "    <tr>\n",
       "      <th>4100</th>\n",
       "      <td>Лимфатическая и кроветворная ткань</td>\n",
       "      <td>С81-96</td>\n",
       "      <td>4.27</td>\n",
       "      <td>0.06</td>\n",
       "      <td>70-74</td>\n",
       "      <td>1161</td>\n",
       "      <td>28.27</td>\n",
       "      <td>5.47</td>\n",
       "      <td>женский</td>\n",
       "      <td>смертность</td>\n",
       "    </tr>\n",
       "    <tr>\n",
       "      <th>4101</th>\n",
       "      <td>Лимфатическая и кроветворная ткань</td>\n",
       "      <td>С81-96</td>\n",
       "      <td>4.27</td>\n",
       "      <td>0.06</td>\n",
       "      <td>75-79</td>\n",
       "      <td>677</td>\n",
       "      <td>36.33</td>\n",
       "      <td>5.76</td>\n",
       "      <td>женский</td>\n",
       "      <td>смертность</td>\n",
       "    </tr>\n",
       "    <tr>\n",
       "      <th>4102</th>\n",
       "      <td>Лимфатическая и кроветворная ткань</td>\n",
       "      <td>С81-96</td>\n",
       "      <td>4.27</td>\n",
       "      <td>0.06</td>\n",
       "      <td>80-84</td>\n",
       "      <td>903</td>\n",
       "      <td>34.47</td>\n",
       "      <td>4.81</td>\n",
       "      <td>женский</td>\n",
       "      <td>смертность</td>\n",
       "    </tr>\n",
       "    <tr>\n",
       "      <th>4103</th>\n",
       "      <td>Лимфатическая и кроветворная ткань</td>\n",
       "      <td>С81-96</td>\n",
       "      <td>4.27</td>\n",
       "      <td>0.06</td>\n",
       "      <td>85-</td>\n",
       "      <td>424</td>\n",
       "      <td>25.84</td>\n",
       "      <td>3.40</td>\n",
       "      <td>женский</td>\n",
       "      <td>смертность</td>\n",
       "    </tr>\n",
       "  </tbody>\n",
       "</table>\n",
       "</div>"
      ],
      "text/plain": [
       "       Локализация, нозологическая форма Код МКБ 10  Станд. показатель  \\\n",
       "4099  Лимфатическая и кроветворная ткань     С81-96               4.27   \n",
       "4100  Лимфатическая и кроветворная ткань     С81-96               4.27   \n",
       "4101  Лимфатическая и кроветворная ткань     С81-96               4.27   \n",
       "4102  Лимфатическая и кроветворная ткань     С81-96               4.27   \n",
       "4103  Лимфатическая и кроветворная ткань     С81-96               4.27   \n",
       "\n",
       "      Ошиб. станд. показ. Возраст  Абс.число  \"Грубый\"  Уд.вес,%      Пол  \\\n",
       "4099                 0.06   65-69       1076     20.54      5.25  женский   \n",
       "4100                 0.06   70-74       1161     28.27      5.47  женский   \n",
       "4101                 0.06   75-79        677     36.33      5.76  женский   \n",
       "4102                 0.06   80-84        903     34.47      4.81  женский   \n",
       "4103                 0.06     85-        424     25.84      3.40  женский   \n",
       "\n",
       "      Статистика  \n",
       "4099  смертность  \n",
       "4100  смертность  \n",
       "4101  смертность  \n",
       "4102  смертность  \n",
       "4103  смертность  "
      ]
     },
     "execution_count": 8,
     "metadata": {},
     "output_type": "execute_result"
    }
   ],
   "source": [
    "# контроль\n",
    "final_table.tail(5)"
   ]
  },
  {
   "cell_type": "code",
   "execution_count": 9,
   "id": "cbfd2920",
   "metadata": {},
   "outputs": [],
   "source": [
    "# сохраняем в файл\n",
    "final_table.to_csv(\"medical_dashboard_group_1.csv\", sep='\\t', index=False)"
   ]
  },
  {
   "cell_type": "markdown",
   "id": "e9409cd7",
   "metadata": {},
   "source": [
    "### Расчет перцентилей для визуализации показателей.\n",
    "\n",
    "Возьмем следующие показатели для цветовой визуализации в сводной таблице:\n",
    "- 50 - \"типовой\"\n",
    "- 75 - \"вызывает настороженность\"\n",
    "- 90 - \"особое внимание\"\n",
    "\n",
    "В будущем следует согласовать эти показатели с заказчиком."
   ]
  },
  {
   "cell_type": "code",
   "execution_count": 10,
   "id": "1e753648",
   "metadata": {},
   "outputs": [
    {
     "data": {
      "text/plain": [
       "array([  58. ,  291. , 1136.7])"
      ]
     },
     "execution_count": 10,
     "metadata": {},
     "output_type": "execute_result"
    }
   ],
   "source": [
    "# сначала фильтруем избыточную информацию (показатели \"всего\")\n",
    "temp = final_table.query('`Локализация, нозологическая форма` != \"Злокачественные новообразования - всего\" & Возраст != \"Всего\"')\n",
    "\n",
    "# рассчитаем перцентили для визуализации по показателям\n",
    "# Абс.число\n",
    "np.percentile(temp[['Абс.число']], [50, 75, 90])"
   ]
  },
  {
   "cell_type": "code",
   "execution_count": 11,
   "id": "180e8afa",
   "metadata": {},
   "outputs": [
    {
     "data": {
      "text/plain": [
       "array([ 1.26  ,  7.2825, 28.515 ])"
      ]
     },
     "execution_count": 11,
     "metadata": {},
     "output_type": "execute_result"
    }
   ],
   "source": [
    "# \"Грубый\"\n",
    "np.percentile(temp[['\"Грубый\"']], [50, 75, 90])"
   ]
  },
  {
   "cell_type": "code",
   "execution_count": 12,
   "id": "b28cb6ca",
   "metadata": {},
   "outputs": [
    {
     "data": {
      "text/plain": [
       "array([0.86 , 3.38 , 7.924])"
      ]
     },
     "execution_count": 12,
     "metadata": {},
     "output_type": "execute_result"
    }
   ],
   "source": [
    "# Уд.вес,%\n",
    "np.percentile(temp[['Уд.вес,%']], [50, 75, 90])"
   ]
  },
  {
   "cell_type": "markdown",
   "id": "b416346d",
   "metadata": {},
   "source": [
    "### Краткие выводы по результату создания дашборда.\n"
   ]
  },
  {
   "cell_type": "markdown",
   "id": "37d47c4b",
   "metadata": {},
   "source": [
    "По результат обработки исходных .xlsx файлов были умышленно сохранены:\n",
    "- строка \"Злокачественные новообразования - всего\"\n",
    "- столбец \"Возраст - Всего\"\n",
    "\n",
    "т.к. в процессе построения дашборда выявлены некоторые несоответствия цифр. Например в таблице 010 столбец \"Возраст\" - \"50-54\" общая цифра абсолютного значения 15629, однако при вычислении получается иной результат. "
   ]
  },
  {
   "cell_type": "code",
   "execution_count": 13,
   "id": "7ab57081",
   "metadata": {},
   "outputs": [
    {
     "data": {
      "text/plain": [
       "15996"
      ]
     },
     "execution_count": 13,
     "metadata": {},
     "output_type": "execute_result"
    }
   ],
   "source": [
    "final_table.query('Возраст==\"50-54\" &\\\n",
    "                  `Локализация, нозологическая форма`!=\"Злокачественные новообразования - всего\" &\\\n",
    "                  Пол==\"мужской\" &\\\n",
    "                  Статистика==\"заболеваемость\"')['Абс.число'].sum()"
   ]
  },
  {
   "cell_type": "markdown",
   "id": "7eca481d",
   "metadata": {},
   "source": [
    "Поэтому было принято решение использовать уже готовые итоговые значения. \n",
    "\n",
    "\n",
    "В рамках имеющейся задачи по визуализации было принято совместить графическое отображение данных с более консервативным (и вероятно более привычным представителям медицины) вариантом в виде сводной таблицы.\n",
    "\n",
    "В итоге я использовал столбчатую диаграмму для визуализации заболеваемости и смертности в разрезе возраста по абсолютным данным, а также таблицу с сортировкой по самым часто встречающимся локализациям онкопроцесса на основе стандартизированных показателей. \n",
    "Пол для этих визуализаций выбирается интерактивно.\n",
    "\n",
    "Вторая часть визуализации - сводная таблица - сделана в виде хитмэпа. Она может строиться на основе грубых, стандартизированных или абсолютных значений и позволяет интерактивно выбирать параметры фильтрации данных, а именно:\n",
    "- пол\n",
    "- статистику по смертности/заболеваемости\n",
    "- возраст.\n",
    "\n",
    "Кроме того, таблица имеет пояснения по цветовому отображению данных. В будущем следует уточнить у представителя медицины, какие перцентили лучше использовать."
   ]
  },
  {
   "cell_type": "markdown",
   "id": "f77f80c4",
   "metadata": {},
   "source": [
    "Я не являюсь представителем медицинского сообщества, поэтому мне сложно выдвигать какие либо гипотезы, однако по созданному дашборду могу сделать, например, следующие выводы и предположения:\n",
    "- после 30 лет идет рост количества онкозаболеваний у обоих полов\n",
    "- пик заболеваемости среди как мужского, так и женского населения приходится на 65-69 лет\n",
    "- у женской части населения также есть повторный подъём заболеваемости в 80-84 года\n",
    "- локализация наибольшей части онкозаболеваний у мужчин - трахея, бронхи, легкое, возможно причина этому неблагоприятные условия труда и курение. У женской части населения это - молочная железа, очевидно здесь взаимосвязь с особенностями строения женского организма.\n",
    "-  детском возрасте высока вероятность поражения головного мозга, ЦНС, лимфатической и кроветворной ткани, а в среднем и пожилом - трахеи, легкого, ободочной кишки и кожи."
   ]
  }
 ],
 "metadata": {
  "kernelspec": {
   "display_name": "Python 3 (ipykernel)",
   "language": "python",
   "name": "python3"
  },
  "language_info": {
   "codemirror_mode": {
    "name": "ipython",
    "version": 3
   },
   "file_extension": ".py",
   "mimetype": "text/x-python",
   "name": "python",
   "nbconvert_exporter": "python",
   "pygments_lexer": "ipython3",
   "version": "3.10.9"
  },
  "toc": {
   "base_numbering": 1,
   "nav_menu": {},
   "number_sections": true,
   "sideBar": true,
   "skip_h1_title": true,
   "title_cell": "Table of Contents",
   "title_sidebar": "Contents",
   "toc_cell": false,
   "toc_position": {},
   "toc_section_display": true,
   "toc_window_display": false
  },
  "varInspector": {
   "cols": {
    "lenName": 16,
    "lenType": 16,
    "lenVar": 40
   },
   "kernels_config": {
    "python": {
     "delete_cmd_postfix": "",
     "delete_cmd_prefix": "del ",
     "library": "var_list.py",
     "varRefreshCmd": "print(var_dic_list())"
    },
    "r": {
     "delete_cmd_postfix": ") ",
     "delete_cmd_prefix": "rm(",
     "library": "var_list.r",
     "varRefreshCmd": "cat(var_dic_list()) "
    }
   },
   "types_to_exclude": [
    "module",
    "function",
    "builtin_function_or_method",
    "instance",
    "_Feature"
   ],
   "window_display": false
  }
 },
 "nbformat": 4,
 "nbformat_minor": 5
}
